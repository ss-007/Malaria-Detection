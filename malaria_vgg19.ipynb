{
 "cells": [
  {
   "cell_type": "code",
   "execution_count": 1,
   "metadata": {},
   "outputs": [],
   "source": [
    "import numpy as np\n",
    "from glob import glob\n",
    "import matplotlib.pyplot as plt\n",
    "from tensorflow.keras.layers import Input, Lambda, Dense, Flatten,Conv2D\n",
    "from tensorflow.keras.models import Model\n",
    "from tensorflow.keras.applications.vgg19 import VGG19\n",
    "from tensorflow.keras.applications.resnet50 import preprocess_input\n",
    "from tensorflow.keras.preprocessing import image\n",
    "from tensorflow.keras.preprocessing.image import ImageDataGenerator,load_img\n",
    "from tensorflow.keras.models import Sequential"
   ]
  },
  {
   "cell_type": "code",
   "execution_count": 2,
   "metadata": {},
   "outputs": [],
   "source": [
    "# re-size all the images to this\n",
    "image_size = [224, 224]\n",
    "\n",
    "train_path = 'Dataset/Train'\n",
    "valid_path = 'Dataset/Test'"
   ]
  },
  {
   "cell_type": "code",
   "execution_count": 3,
   "metadata": {},
   "outputs": [
    {
     "name": "stdout",
     "output_type": "stream",
     "text": [
      "Downloading data from https://storage.googleapis.com/tensorflow/keras-applications/vgg19/vgg19_weights_tf_dim_ordering_tf_kernels_notop.h5\n",
      "80142336/80134624 [==============================] - 10s 0us/step\n"
     ]
    }
   ],
   "source": [
    "# import the Vgg19 library and adding preprocessing layer to the front of VGG19\n",
    "\n",
    "vgg = VGG19(input_shape=image_size + [3], weights='imagenet', include_top=False)"
   ]
  },
  {
   "cell_type": "code",
   "execution_count": 5,
   "metadata": {},
   "outputs": [],
   "source": [
    "# don't train on existing weights\n",
    "for layer in vgg.layers:\n",
    "    layer.trainable = False"
   ]
  },
  {
   "cell_type": "code",
   "execution_count": 11,
   "metadata": {},
   "outputs": [
    {
     "name": "stdout",
     "output_type": "stream",
     "text": [
      "Model: \"vgg19\"\n",
      "_________________________________________________________________\n",
      "Layer (type)                 Output Shape              Param #   \n",
      "=================================================================\n",
      "input_1 (InputLayer)         [(None, 224, 224, 3)]     0         \n",
      "_________________________________________________________________\n",
      "block1_conv1 (Conv2D)        (None, 224, 224, 64)      1792      \n",
      "_________________________________________________________________\n",
      "block1_conv2 (Conv2D)        (None, 224, 224, 64)      36928     \n",
      "_________________________________________________________________\n",
      "block1_pool (MaxPooling2D)   (None, 112, 112, 64)      0         \n",
      "_________________________________________________________________\n",
      "block2_conv1 (Conv2D)        (None, 112, 112, 128)     73856     \n",
      "_________________________________________________________________\n",
      "block2_conv2 (Conv2D)        (None, 112, 112, 128)     147584    \n",
      "_________________________________________________________________\n",
      "block2_pool (MaxPooling2D)   (None, 56, 56, 128)       0         \n",
      "_________________________________________________________________\n",
      "block3_conv1 (Conv2D)        (None, 56, 56, 256)       295168    \n",
      "_________________________________________________________________\n",
      "block3_conv2 (Conv2D)        (None, 56, 56, 256)       590080    \n",
      "_________________________________________________________________\n",
      "block3_conv3 (Conv2D)        (None, 56, 56, 256)       590080    \n",
      "_________________________________________________________________\n",
      "block3_conv4 (Conv2D)        (None, 56, 56, 256)       590080    \n",
      "_________________________________________________________________\n",
      "block3_pool (MaxPooling2D)   (None, 28, 28, 256)       0         \n",
      "_________________________________________________________________\n",
      "block4_conv1 (Conv2D)        (None, 28, 28, 512)       1180160   \n",
      "_________________________________________________________________\n",
      "block4_conv2 (Conv2D)        (None, 28, 28, 512)       2359808   \n",
      "_________________________________________________________________\n",
      "block4_conv3 (Conv2D)        (None, 28, 28, 512)       2359808   \n",
      "_________________________________________________________________\n",
      "block4_conv4 (Conv2D)        (None, 28, 28, 512)       2359808   \n",
      "_________________________________________________________________\n",
      "block4_pool (MaxPooling2D)   (None, 14, 14, 512)       0         \n",
      "_________________________________________________________________\n",
      "block5_conv1 (Conv2D)        (None, 14, 14, 512)       2359808   \n",
      "_________________________________________________________________\n",
      "block5_conv2 (Conv2D)        (None, 14, 14, 512)       2359808   \n",
      "_________________________________________________________________\n",
      "block5_conv3 (Conv2D)        (None, 14, 14, 512)       2359808   \n",
      "_________________________________________________________________\n",
      "block5_conv4 (Conv2D)        (None, 14, 14, 512)       2359808   \n",
      "_________________________________________________________________\n",
      "block5_pool (MaxPooling2D)   (None, 7, 7, 512)         0         \n",
      "=================================================================\n",
      "Total params: 20,024,384\n",
      "Trainable params: 0\n",
      "Non-trainable params: 20,024,384\n",
      "_________________________________________________________________\n"
     ]
    }
   ],
   "source": [
    "# last layer is removed\n",
    "vgg.summary()"
   ]
  },
  {
   "cell_type": "code",
   "execution_count": 6,
   "metadata": {},
   "outputs": [],
   "source": [
    "# useful for getting number of output classes\n",
    "folders = glob('Dataset/Train/*')"
   ]
  },
  {
   "cell_type": "code",
   "execution_count": 7,
   "metadata": {},
   "outputs": [
    {
     "data": {
      "text/plain": [
       "['Dataset/Train\\\\Parasite', 'Dataset/Train\\\\Uninfected']"
      ]
     },
     "execution_count": 7,
     "metadata": {},
     "output_type": "execute_result"
    }
   ],
   "source": [
    "folders"
   ]
  },
  {
   "cell_type": "code",
   "execution_count": 8,
   "metadata": {},
   "outputs": [],
   "source": [
    "x = Flatten()(vgg.output)"
   ]
  },
  {
   "cell_type": "code",
   "execution_count": 9,
   "metadata": {},
   "outputs": [],
   "source": [
    "prediction = Dense(len(folders), activation='softmax')(x)\n",
    "\n",
    "# create a model object\n",
    "model = Model(inputs=vgg.input, outputs=prediction)"
   ]
  },
  {
   "cell_type": "code",
   "execution_count": 10,
   "metadata": {},
   "outputs": [
    {
     "name": "stdout",
     "output_type": "stream",
     "text": [
      "Model: \"functional_1\"\n",
      "_________________________________________________________________\n",
      "Layer (type)                 Output Shape              Param #   \n",
      "=================================================================\n",
      "input_1 (InputLayer)         [(None, 224, 224, 3)]     0         \n",
      "_________________________________________________________________\n",
      "block1_conv1 (Conv2D)        (None, 224, 224, 64)      1792      \n",
      "_________________________________________________________________\n",
      "block1_conv2 (Conv2D)        (None, 224, 224, 64)      36928     \n",
      "_________________________________________________________________\n",
      "block1_pool (MaxPooling2D)   (None, 112, 112, 64)      0         \n",
      "_________________________________________________________________\n",
      "block2_conv1 (Conv2D)        (None, 112, 112, 128)     73856     \n",
      "_________________________________________________________________\n",
      "block2_conv2 (Conv2D)        (None, 112, 112, 128)     147584    \n",
      "_________________________________________________________________\n",
      "block2_pool (MaxPooling2D)   (None, 56, 56, 128)       0         \n",
      "_________________________________________________________________\n",
      "block3_conv1 (Conv2D)        (None, 56, 56, 256)       295168    \n",
      "_________________________________________________________________\n",
      "block3_conv2 (Conv2D)        (None, 56, 56, 256)       590080    \n",
      "_________________________________________________________________\n",
      "block3_conv3 (Conv2D)        (None, 56, 56, 256)       590080    \n",
      "_________________________________________________________________\n",
      "block3_conv4 (Conv2D)        (None, 56, 56, 256)       590080    \n",
      "_________________________________________________________________\n",
      "block3_pool (MaxPooling2D)   (None, 28, 28, 256)       0         \n",
      "_________________________________________________________________\n",
      "block4_conv1 (Conv2D)        (None, 28, 28, 512)       1180160   \n",
      "_________________________________________________________________\n",
      "block4_conv2 (Conv2D)        (None, 28, 28, 512)       2359808   \n",
      "_________________________________________________________________\n",
      "block4_conv3 (Conv2D)        (None, 28, 28, 512)       2359808   \n",
      "_________________________________________________________________\n",
      "block4_conv4 (Conv2D)        (None, 28, 28, 512)       2359808   \n",
      "_________________________________________________________________\n",
      "block4_pool (MaxPooling2D)   (None, 14, 14, 512)       0         \n",
      "_________________________________________________________________\n",
      "block5_conv1 (Conv2D)        (None, 14, 14, 512)       2359808   \n",
      "_________________________________________________________________\n",
      "block5_conv2 (Conv2D)        (None, 14, 14, 512)       2359808   \n",
      "_________________________________________________________________\n",
      "block5_conv3 (Conv2D)        (None, 14, 14, 512)       2359808   \n",
      "_________________________________________________________________\n",
      "block5_conv4 (Conv2D)        (None, 14, 14, 512)       2359808   \n",
      "_________________________________________________________________\n",
      "block5_pool (MaxPooling2D)   (None, 7, 7, 512)         0         \n",
      "_________________________________________________________________\n",
      "flatten (Flatten)            (None, 25088)             0         \n",
      "_________________________________________________________________\n",
      "dense (Dense)                (None, 2)                 50178     \n",
      "=================================================================\n",
      "Total params: 20,074,562\n",
      "Trainable params: 50,178\n",
      "Non-trainable params: 20,024,384\n",
      "_________________________________________________________________\n"
     ]
    }
   ],
   "source": [
    "# last 2 layers are added, eg: flatten & dense\n",
    "model.summary()"
   ]
  },
  {
   "cell_type": "code",
   "execution_count": 12,
   "metadata": {},
   "outputs": [],
   "source": [
    "# tell the model what cost and optimization method to use\n",
    "model.compile(\n",
    "  loss='categorical_crossentropy',\n",
    "  optimizer='adam',\n",
    "  metrics=['accuracy']\n",
    ")"
   ]
  },
  {
   "cell_type": "code",
   "execution_count": 13,
   "metadata": {},
   "outputs": [],
   "source": [
    "# Use the Image Data Generator to import the images from the dataset\n",
    "from tensorflow.keras.preprocessing.image import ImageDataGenerator\n",
    "\n",
    "train_datagen = ImageDataGenerator(rescale = 1./255,\n",
    "                                   shear_range = 0.2,\n",
    "                                   zoom_range = 0.2,\n",
    "                                   horizontal_flip = True)\n",
    "\n",
    "test_datagen = ImageDataGenerator(rescale = 1./255)"
   ]
  },
  {
   "cell_type": "code",
   "execution_count": 14,
   "metadata": {},
   "outputs": [
    {
     "name": "stdout",
     "output_type": "stream",
     "text": [
      "Found 416 images belonging to 2 classes.\n"
     ]
    }
   ],
   "source": [
    "# Make sure you provide the same target size as initialied for the image size\n",
    "training_set = train_datagen.flow_from_directory('Dataset/Train',\n",
    "                                                 target_size = (224, 224),\n",
    "                                                 batch_size = 32,\n",
    "                                                 class_mode = 'categorical')"
   ]
  },
  {
   "cell_type": "code",
   "execution_count": 15,
   "metadata": {},
   "outputs": [
    {
     "data": {
      "text/plain": [
       "<tensorflow.python.keras.preprocessing.image.DirectoryIterator at 0x26193ff53c8>"
      ]
     },
     "execution_count": 15,
     "metadata": {},
     "output_type": "execute_result"
    }
   ],
   "source": [
    "training_set"
   ]
  },
  {
   "cell_type": "code",
   "execution_count": 16,
   "metadata": {},
   "outputs": [
    {
     "name": "stdout",
     "output_type": "stream",
     "text": [
      "Found 134 images belonging to 2 classes.\n"
     ]
    }
   ],
   "source": [
    "test_set = test_datagen.flow_from_directory('Dataset/Test',\n",
    "                                            target_size = (224, 224),\n",
    "                                            batch_size = 32,\n",
    "                                            class_mode = 'categorical')"
   ]
  },
  {
   "cell_type": "code",
   "execution_count": 19,
   "metadata": {
    "scrolled": true
   },
   "outputs": [
    {
     "name": "stdout",
     "output_type": "stream",
     "text": [
      "Epoch 1/20\n",
      "13/13 [==============================] - 200s 15s/step - loss: 0.3742 - accuracy: 0.8221 - val_loss: 0.4586 - val_accuracy: 0.7761\n",
      "Epoch 2/20\n",
      "13/13 [==============================] - 199s 15s/step - loss: 0.2814 - accuracy: 0.8774 - val_loss: 0.3836 - val_accuracy: 0.8209\n",
      "Epoch 3/20\n",
      "13/13 [==============================] - 197s 15s/step - loss: 0.2741 - accuracy: 0.9014 - val_loss: 0.3506 - val_accuracy: 0.8433\n",
      "Epoch 4/20\n",
      "13/13 [==============================] - 197s 15s/step - loss: 0.2444 - accuracy: 0.9207 - val_loss: 0.4073 - val_accuracy: 0.7836\n",
      "Epoch 5/20\n",
      "13/13 [==============================] - 196s 15s/step - loss: 0.2470 - accuracy: 0.8942 - val_loss: 0.3907 - val_accuracy: 0.7910\n",
      "Epoch 6/20\n",
      "13/13 [==============================] - 196s 15s/step - loss: 0.2289 - accuracy: 0.9135 - val_loss: 0.3887 - val_accuracy: 0.7761\n",
      "Epoch 7/20\n",
      "13/13 [==============================] - 197s 15s/step - loss: 0.2161 - accuracy: 0.9207 - val_loss: 0.2743 - val_accuracy: 0.9179\n",
      "Epoch 8/20\n",
      "13/13 [==============================] - 196s 15s/step - loss: 0.2127 - accuracy: 0.9231 - val_loss: 0.5416 - val_accuracy: 0.7313\n",
      "Epoch 9/20\n",
      "13/13 [==============================] - 196s 15s/step - loss: 0.2016 - accuracy: 0.9231 - val_loss: 0.2863 - val_accuracy: 0.8955\n",
      "Epoch 10/20\n",
      "13/13 [==============================] - 196s 15s/step - loss: 0.1819 - accuracy: 0.9399 - val_loss: 0.2669 - val_accuracy: 0.9104\n",
      "Epoch 11/20\n",
      "13/13 [==============================] - 197s 15s/step - loss: 0.1747 - accuracy: 0.9423 - val_loss: 0.2627 - val_accuracy: 0.9179\n",
      "Epoch 12/20\n",
      "13/13 [==============================] - 199s 15s/step - loss: 0.1508 - accuracy: 0.9495 - val_loss: 0.2546 - val_accuracy: 0.9254\n",
      "Epoch 13/20\n",
      "13/13 [==============================] - 199s 15s/step - loss: 0.1573 - accuracy: 0.9519 - val_loss: 0.2526 - val_accuracy: 0.9030\n",
      "Epoch 14/20\n",
      "13/13 [==============================] - 197s 15s/step - loss: 0.1399 - accuracy: 0.9639 - val_loss: 0.2815 - val_accuracy: 0.8881\n",
      "Epoch 15/20\n",
      "13/13 [==============================] - 197s 15s/step - loss: 0.1356 - accuracy: 0.9663 - val_loss: 0.2761 - val_accuracy: 0.8881\n",
      "Epoch 16/20\n",
      "13/13 [==============================] - 198s 15s/step - loss: 0.1441 - accuracy: 0.9519 - val_loss: 0.3722 - val_accuracy: 0.7910\n",
      "Epoch 17/20\n",
      "13/13 [==============================] - 199s 15s/step - loss: 0.1498 - accuracy: 0.9519 - val_loss: 0.2494 - val_accuracy: 0.9030\n",
      "Epoch 18/20\n",
      "13/13 [==============================] - 197s 15s/step - loss: 0.1367 - accuracy: 0.9519 - val_loss: 0.2502 - val_accuracy: 0.9179\n",
      "Epoch 19/20\n",
      "13/13 [==============================] - 198s 15s/step - loss: 0.1235 - accuracy: 0.9712 - val_loss: 0.2228 - val_accuracy: 0.9328\n",
      "Epoch 20/20\n",
      "13/13 [==============================] - 199s 15s/step - loss: 0.1267 - accuracy: 0.9688 - val_loss: 0.2779 - val_accuracy: 0.8731\n"
     ]
    }
   ],
   "source": [
    "# fit the model & train it\n",
    "prototype = model.fit_generator(\n",
    "  training_set,\n",
    "  validation_data=test_set,\n",
    "  epochs=20,\n",
    "  steps_per_epoch=len(training_set),\n",
    "  validation_steps=len(test_set)\n",
    ")"
   ]
  },
  {
   "cell_type": "code",
   "execution_count": 21,
   "metadata": {},
   "outputs": [
    {
     "data": {
      "image/png": "[encoded data removed]",
      "text/plain": [
       "<Figure size 432x288 with 1 Axes>"
      ]
     },
     "metadata": {
      "needs_background": "light"
     },
     "output_type": "display_data"
    }
   ],
   "source": [
    "# plotting the accuracy\n",
    "plt.plot(prototype.history['accuracy'], label='Train Acc.')\n",
    "plt.plot(prototype.history['val_accuracy'], label='Validation Acc.')\n",
    "plt.legend()\n",
    "plt.show()"
   ]
  },
  {
   "cell_type": "code",
   "execution_count": 22,
   "metadata": {},
   "outputs": [
    {
     "data": {
      "image/png": "[encoded data removed]",
      "text/plain": [
       "<Figure size 432x288 with 1 Axes>"
      ]
     },
     "metadata": {
      "needs_background": "light"
     },
     "output_type": "display_data"
    }
   ],
   "source": [
    "# plotting the loss\n",
    "plt.plot(prototype.history['loss'], label='Train Loss')\n",
    "plt.plot(prototype.history['val_loss'], label='Validation Loss')\n",
    "plt.legend()\n",
    "plt.show()"
   ]
  },
  {
   "cell_type": "code",
   "execution_count": 27,
   "metadata": {},
   "outputs": [],
   "source": [
    "# saving it as h5 file\n",
    "from tensorflow.keras.models import load_model\n",
    "model.save('vgg19_model.h5')"
   ]
  },
  {
   "cell_type": "code",
   "execution_count": 30,
   "metadata": {},
   "outputs": [],
   "source": [
    "model = load_model('vgg19_model.h5')"
   ]
  },
  {
   "cell_type": "code",
   "execution_count": 31,
   "metadata": {},
   "outputs": [],
   "source": [
    "y_pred = model.predict(test_set)"
   ]
  },
  {
   "cell_type": "code",
   "execution_count": 32,
   "metadata": {},
   "outputs": [
    {
     "data": {
      "text/plain": [
       "array([[9.97751892e-01, 2.24807276e-03],\n",
       "       [7.55338520e-02, 9.24466193e-01],\n",
       "       [9.87379789e-01, 1.26201585e-02],\n",
       "       [9.81466472e-02, 9.01853383e-01],\n",
       "       [1.02937836e-02, 9.89706159e-01],\n",
       "       [6.95771426e-02, 9.30422902e-01],\n",
       "       [4.65435296e-01, 5.34564734e-01],\n",
       "       [9.98659372e-01, 1.34064793e-03],\n",
       "       [9.58160818e-01, 4.18391898e-02],\n",
       "       [7.50164926e-01, 2.49835059e-01],\n",
       "       [2.97721148e-01, 7.02278852e-01],\n",
       "       [2.24382818e-01, 7.75617123e-01],\n",
       "       [9.99998689e-01, 1.33322010e-06],\n",
       "       [9.96217191e-01, 3.78286559e-03],\n",
       "       [2.25698665e-01, 7.74301350e-01],\n",
       "       [1.77981615e-01, 8.22018385e-01],\n",
       "       [4.05892283e-01, 5.94107747e-01],\n",
       "       [9.26466882e-01, 7.35331252e-02],\n",
       "       [9.91030335e-01, 8.96962546e-03],\n",
       "       [9.92662311e-01, 7.33764609e-03],\n",
       "       [1.94750190e-01, 8.05249810e-01],\n",
       "       [6.58549309e-01, 3.41450602e-01],\n",
       "       [5.61600089e-01, 4.38399851e-01],\n",
       "       [5.61170578e-01, 4.38829452e-01],\n",
       "       [1.11296959e-01, 8.88702989e-01],\n",
       "       [2.10754290e-01, 7.89245725e-01],\n",
       "       [3.70224118e-02, 9.62977648e-01],\n",
       "       [5.25390446e-01, 4.74609584e-01],\n",
       "       [9.92026508e-01, 7.97345676e-03],\n",
       "       [9.99933839e-01, 6.61205850e-05],\n",
       "       [9.94407892e-01, 5.59214689e-03],\n",
       "       [2.51604646e-01, 7.48395383e-01],\n",
       "       [6.44377768e-01, 3.55622202e-01],\n",
       "       [2.80848324e-01, 7.19151676e-01],\n",
       "       [9.63162959e-01, 3.68370973e-02],\n",
       "       [7.80989081e-02, 9.21901166e-01],\n",
       "       [7.73297727e-01, 2.26702243e-01],\n",
       "       [8.94379020e-01, 1.05620928e-01],\n",
       "       [2.11793080e-01, 7.88206935e-01],\n",
       "       [7.62091279e-01, 2.37908691e-01],\n",
       "       [6.15930595e-02, 9.38406885e-01],\n",
       "       [6.67093843e-02, 9.33290601e-01],\n",
       "       [9.40970898e-01, 5.90290949e-02],\n",
       "       [1.25289634e-01, 8.74710381e-01],\n",
       "       [9.99998689e-01, 1.28735735e-06],\n",
       "       [8.48666906e-01, 1.51333109e-01],\n",
       "       [1.17169738e-01, 8.82830262e-01],\n",
       "       [9.24794152e-02, 9.07520652e-01],\n",
       "       [7.38939643e-03, 9.92610633e-01],\n",
       "       [7.10900053e-02, 9.28909957e-01],\n",
       "       [5.32595962e-02, 9.46740448e-01],\n",
       "       [9.54707265e-01, 4.52927724e-02],\n",
       "       [4.99451965e-01, 5.00548005e-01],\n",
       "       [1.69587389e-01, 8.30412626e-01],\n",
       "       [9.99856949e-01, 1.43043246e-04],\n",
       "       [2.93203831e-01, 7.06796169e-01],\n",
       "       [8.68000627e-01, 1.31999373e-01],\n",
       "       [9.99930739e-01, 6.92667381e-05],\n",
       "       [9.49561656e-01, 5.04383631e-02],\n",
       "       [3.39455456e-02, 9.66054440e-01],\n",
       "       [9.97832119e-01, 2.16786424e-03],\n",
       "       [9.79911745e-01, 2.00882070e-02],\n",
       "       [3.28546315e-02, 9.67145383e-01],\n",
       "       [5.31085506e-02, 9.46891487e-01],\n",
       "       [5.38362026e-01, 4.61637974e-01],\n",
       "       [1.38110658e-02, 9.86188948e-01],\n",
       "       [7.01279223e-01, 2.98720837e-01],\n",
       "       [9.98757362e-01, 1.24261447e-03],\n",
       "       [9.39128995e-01, 6.08710535e-02],\n",
       "       [5.69631010e-02, 9.43036854e-01],\n",
       "       [2.59246752e-02, 9.74075317e-01],\n",
       "       [7.05931604e-01, 2.94068336e-01],\n",
       "       [9.95825052e-01, 4.17496823e-03],\n",
       "       [9.93103683e-01, 6.89627044e-03],\n",
       "       [9.99772727e-01, 2.27253448e-04],\n",
       "       [6.69240057e-01, 3.30760002e-01],\n",
       "       [9.99912977e-01, 8.70594668e-05],\n",
       "       [2.08689883e-01, 7.91310132e-01],\n",
       "       [5.45828976e-02, 9.45417047e-01],\n",
       "       [3.55691254e-01, 6.44308746e-01],\n",
       "       [4.97247785e-01, 5.02752244e-01],\n",
       "       [6.63684905e-01, 3.36315066e-01],\n",
       "       [2.15522930e-01, 7.84477055e-01],\n",
       "       [9.96590137e-01, 3.40990303e-03],\n",
       "       [9.82734859e-01, 1.72651093e-02],\n",
       "       [5.76802135e-01, 4.23197836e-01],\n",
       "       [8.12950909e-01, 1.87049106e-01],\n",
       "       [4.91044700e-01, 5.08955359e-01],\n",
       "       [9.96945918e-01, 3.05409031e-03],\n",
       "       [9.97994781e-01, 2.00524461e-03],\n",
       "       [7.51992464e-01, 2.48007566e-01],\n",
       "       [9.71085548e-01, 2.89144497e-02],\n",
       "       [1.37365565e-01, 8.62634480e-01],\n",
       "       [9.28114176e-01, 7.18857422e-02],\n",
       "       [6.27736747e-01, 3.72263223e-01],\n",
       "       [9.17890012e-01, 8.21099281e-02],\n",
       "       [7.55888820e-01, 2.44111195e-01],\n",
       "       [2.63504647e-02, 9.73649502e-01],\n",
       "       [6.74686193e-01, 3.25313866e-01],\n",
       "       [1.88007817e-01, 8.11992228e-01],\n",
       "       [1.84771433e-01, 8.15228522e-01],\n",
       "       [9.99014974e-01, 9.85066523e-04],\n",
       "       [5.72676733e-02, 9.42732394e-01],\n",
       "       [9.98425841e-01, 1.57417613e-03],\n",
       "       [1.52670830e-01, 8.47329199e-01],\n",
       "       [9.98826444e-01, 1.17353711e-03],\n",
       "       [3.71479876e-02, 9.62851942e-01],\n",
       "       [2.56775822e-02, 9.74322379e-01],\n",
       "       [9.99833941e-01, 1.66067141e-04],\n",
       "       [1.24954954e-01, 8.75045061e-01],\n",
       "       [9.81307924e-01, 1.86920911e-02],\n",
       "       [9.84313011e-01, 1.56870000e-02],\n",
       "       [9.93278205e-01, 6.72179228e-03],\n",
       "       [4.61625233e-02, 9.53837514e-01],\n",
       "       [4.04260725e-01, 5.95739305e-01],\n",
       "       [4.67546396e-02, 9.53245401e-01],\n",
       "       [9.41907644e-01, 5.80923408e-02],\n",
       "       [8.60547721e-01, 1.39452279e-01],\n",
       "       [9.99409795e-01, 5.90273121e-04],\n",
       "       [9.99900579e-01, 9.94191505e-05],\n",
       "       [8.88530850e-01, 1.11469164e-01],\n",
       "       [5.12394905e-01, 4.87605095e-01],\n",
       "       [7.00778902e-01, 2.99221128e-01],\n",
       "       [6.55686483e-02, 9.34431374e-01],\n",
       "       [9.10941720e-01, 8.90583470e-02],\n",
       "       [7.29474366e-01, 2.70525634e-01],\n",
       "       [8.79771948e-01, 1.20228030e-01],\n",
       "       [1.04359210e-01, 8.95640850e-01],\n",
       "       [9.94791806e-01, 5.20816445e-03],\n",
       "       [6.61218837e-02, 9.33878124e-01],\n",
       "       [7.51476511e-02, 9.24852371e-01],\n",
       "       [9.99158382e-01, 8.41620436e-04],\n",
       "       [4.31758091e-02, 9.56824183e-01],\n",
       "       [9.97457564e-01, 2.54248199e-03]], dtype=float32)"
      ]
     },
     "execution_count": 32,
     "metadata": {},
     "output_type": "execute_result"
    }
   ],
   "source": [
    "y_pred"
   ]
  },
  {
   "cell_type": "code",
   "execution_count": 33,
   "metadata": {},
   "outputs": [],
   "source": [
    "y_pred = np.argmax(y_pred, axis=1)"
   ]
  },
  {
   "cell_type": "code",
   "execution_count": 34,
   "metadata": {},
   "outputs": [
    {
     "data": {
      "text/plain": [
       "array([0, 1, 0, 1, 1, 1, 1, 0, 0, 0, 1, 1, 0, 0, 1, 1, 1, 0, 0, 0, 1, 0,\n",
       "       0, 0, 1, 1, 1, 0, 0, 0, 0, 1, 0, 1, 0, 1, 0, 0, 1, 0, 1, 1, 0, 1,\n",
       "       0, 0, 1, 1, 1, 1, 1, 0, 1, 1, 0, 1, 0, 0, 0, 1, 0, 0, 1, 1, 0, 1,\n",
       "       0, 0, 0, 1, 1, 0, 0, 0, 0, 0, 0, 1, 1, 1, 1, 0, 1, 0, 0, 0, 0, 1,\n",
       "       0, 0, 0, 0, 1, 0, 0, 0, 0, 1, 0, 1, 1, 0, 1, 0, 1, 0, 1, 1, 0, 1,\n",
       "       0, 0, 0, 1, 1, 1, 0, 0, 0, 0, 0, 0, 0, 1, 0, 0, 0, 1, 0, 1, 1, 0,\n",
       "       1, 0], dtype=int64)"
      ]
     },
     "execution_count": 34,
     "metadata": {},
     "output_type": "execute_result"
    }
   ],
   "source": [
    "y_pred"
   ]
  },
  {
   "cell_type": "code",
   "execution_count": 36,
   "metadata": {},
   "outputs": [],
   "source": [
    "img = image.load_img('Dataset/Test/Uninfected/2.png',target_size=(224,224))"
   ]
  },
  {
   "cell_type": "code",
   "execution_count": 46,
   "metadata": {},
   "outputs": [
    {
     "data": {
      "text/plain": [
       "array([[[0., 0., 0.],\n",
       "        [0., 0., 0.],\n",
       "        [0., 0., 0.],\n",
       "        ...,\n",
       "        [0., 0., 0.],\n",
       "        [0., 0., 0.],\n",
       "        [0., 0., 0.]],\n",
       "\n",
       "       [[0., 0., 0.],\n",
       "        [0., 0., 0.],\n",
       "        [0., 0., 0.],\n",
       "        ...,\n",
       "        [0., 0., 0.],\n",
       "        [0., 0., 0.],\n",
       "        [0., 0., 0.]],\n",
       "\n",
       "       [[0., 0., 0.],\n",
       "        [0., 0., 0.],\n",
       "        [0., 0., 0.],\n",
       "        ...,\n",
       "        [0., 0., 0.],\n",
       "        [0., 0., 0.],\n",
       "        [0., 0., 0.]],\n",
       "\n",
       "       ...,\n",
       "\n",
       "       [[0., 0., 0.],\n",
       "        [0., 0., 0.],\n",
       "        [0., 0., 0.],\n",
       "        ...,\n",
       "        [0., 0., 0.],\n",
       "        [0., 0., 0.],\n",
       "        [0., 0., 0.]],\n",
       "\n",
       "       [[0., 0., 0.],\n",
       "        [0., 0., 0.],\n",
       "        [0., 0., 0.],\n",
       "        ...,\n",
       "        [0., 0., 0.],\n",
       "        [0., 0., 0.],\n",
       "        [0., 0., 0.]],\n",
       "\n",
       "       [[0., 0., 0.],\n",
       "        [0., 0., 0.],\n",
       "        [0., 0., 0.],\n",
       "        ...,\n",
       "        [0., 0., 0.],\n",
       "        [0., 0., 0.],\n",
       "        [0., 0., 0.]]], dtype=float32)"
      ]
     },
     "execution_count": 46,
     "metadata": {},
     "output_type": "execute_result"
    }
   ],
   "source": [
    "a = image.img_to_array(img)\n",
    "a"
   ]
  },
  {
   "cell_type": "code",
   "execution_count": 47,
   "metadata": {},
   "outputs": [
    {
     "data": {
      "text/plain": [
       "(224, 224, 3)"
      ]
     },
     "execution_count": 47,
     "metadata": {},
     "output_type": "execute_result"
    }
   ],
   "source": [
    "a.shape"
   ]
  },
  {
   "cell_type": "code",
   "execution_count": 48,
   "metadata": {},
   "outputs": [],
   "source": [
    "a = a/255"
   ]
  },
  {
   "cell_type": "code",
   "execution_count": 49,
   "metadata": {},
   "outputs": [
    {
     "data": {
      "text/plain": [
       "(1, 224, 224, 3)"
      ]
     },
     "execution_count": 49,
     "metadata": {},
     "output_type": "execute_result"
    }
   ],
   "source": [
    "a = np.expand_dims(a, axis=0)\n",
    "b = preprocess_input(a)\n",
    "b.shape"
   ]
  },
  {
   "cell_type": "code",
   "execution_count": 50,
   "metadata": {},
   "outputs": [
    {
     "data": {
      "text/plain": [
       "array([[4.6033753e-04, 9.9953973e-01]], dtype=float32)"
      ]
     },
     "execution_count": 50,
     "metadata": {},
     "output_type": "execute_result"
    }
   ],
   "source": [
    "model.predict(b)"
   ]
  },
  {
   "cell_type": "code",
   "execution_count": 53,
   "metadata": {},
   "outputs": [],
   "source": [
    "c = np.argmax(model.predict(b))"
   ]
  },
  {
   "cell_type": "code",
   "execution_count": 54,
   "metadata": {},
   "outputs": [
    {
     "name": "stdout",
     "output_type": "stream",
     "text": [
      "Uninfected\n"
     ]
    }
   ],
   "source": [
    "if c==1:\n",
    "    print('Uninfected')\n",
    "else:\n",
    "    print('Infected')"
   ]
  },
  {
   "cell_type": "code",
   "execution_count": null,
   "metadata": {},
   "outputs": [],
   "source": []
  }
 ],
 "metadata": {
  "kernelspec": {
   "display_name": "Python 3",
   "language": "python",
   "name": "python3"
  },
  "language_info": {
   "codemirror_mode": {
    "name": "ipython",
    "version": 3
   },
   "file_extension": ".py",
   "mimetype": "text/x-python",
   "name": "python",
   "nbconvert_exporter": "python",
   "pygments_lexer": "ipython3",
   "version": "3.7.6"
  }
 },
 "nbformat": 4,
 "nbformat_minor": 4
}
